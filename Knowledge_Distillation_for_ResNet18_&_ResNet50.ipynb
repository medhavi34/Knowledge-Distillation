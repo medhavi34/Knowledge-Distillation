{
  "nbformat": 4,
  "nbformat_minor": 0,
  "metadata": {
    "colab": {
      "provenance": [],
      "gpuType": "T4",
      "machine_shape": "hm"
    },
    "kernelspec": {
      "name": "python3",
      "display_name": "Python 3"
    },
    "language_info": {
      "name": "python"
    },
    "accelerator": "GPU"
  },
  "cells": [
    {
      "cell_type": "code",
      "execution_count": null,
      "metadata": {
        "id": "AXmsVzHMxuUK"
      },
      "outputs": [],
      "source": [
        "import torch\n",
        "import torchvision.models as models\n",
        "from torchvision.datasets import CIFAR10\n",
        "from torch.utils.data import DataLoader\n",
        "from torchvision.transforms import transforms\n",
        "from torch.optim import Adam\n",
        "import torch.nn as nn\n",
        "import torch.nn.functional as F"
      ]
    },
    {
      "cell_type": "markdown",
      "source": [
        "## Load Dataset"
      ],
      "metadata": {
        "id": "ui-zDk2tyNMX"
      }
    },
    {
      "cell_type": "code",
      "source": [
        "# Define transformations\n",
        "device = torch.device(\"cuda:0\" if torch.cuda.is_available() else \"cpu\")\n",
        "\n",
        "transform = transforms.Compose([transforms.ToTensor(), transforms.Normalize((0.5,), (0.5,))])\n",
        "\n",
        "# Load CIFAR10 dataset\n",
        "train_dataset = CIFAR10(root='./data', train=True, transform=transform, download=True)\n",
        "train_loader = DataLoader(train_dataset, batch_size=64, shuffle=True)\n",
        "\n",
        "val_dataset = CIFAR10(root='./data', train=False, transform=transform, download=True)\n",
        "val_loader = DataLoader(train_dataset, batch_size=64, shuffle=True)\n",
        "\n",
        "# Define ResNet18 and ResNet50 models\n",
        "resnet18 = models.resnet18(pretrained=True)\n",
        "resnet50 = models.resnet50(pretrained=True)"
      ],
      "metadata": {
        "colab": {
          "base_uri": "https://localhost:8080/"
        },
        "id": "mT3Q3P7jx4fD",
        "outputId": "bd5a4f60-8f97-45a0-daf0-5fdd006037e8"
      },
      "execution_count": null,
      "outputs": [
        {
          "output_type": "stream",
          "name": "stdout",
          "text": [
            "Downloading https://www.cs.toronto.edu/~kriz/cifar-10-python.tar.gz to ./data/cifar-10-python.tar.gz\n"
          ]
        },
        {
          "output_type": "stream",
          "name": "stderr",
          "text": [
            "100%|██████████| 170498071/170498071 [00:05<00:00, 29145367.80it/s]\n"
          ]
        },
        {
          "output_type": "stream",
          "name": "stdout",
          "text": [
            "Extracting ./data/cifar-10-python.tar.gz to ./data\n",
            "Files already downloaded and verified\n"
          ]
        },
        {
          "output_type": "stream",
          "name": "stderr",
          "text": [
            "/usr/local/lib/python3.10/dist-packages/torchvision/models/_utils.py:208: UserWarning: The parameter 'pretrained' is deprecated since 0.13 and may be removed in the future, please use 'weights' instead.\n",
            "  warnings.warn(\n",
            "/usr/local/lib/python3.10/dist-packages/torchvision/models/_utils.py:223: UserWarning: Arguments other than a weight enum or `None` for 'weights' are deprecated since 0.13 and may be removed in the future. The current behavior is equivalent to passing `weights=ResNet18_Weights.IMAGENET1K_V1`. You can also use `weights=ResNet18_Weights.DEFAULT` to get the most up-to-date weights.\n",
            "  warnings.warn(msg)\n",
            "Downloading: \"https://download.pytorch.org/models/resnet18-f37072fd.pth\" to /root/.cache/torch/hub/checkpoints/resnet18-f37072fd.pth\n",
            "100%|██████████| 44.7M/44.7M [00:00<00:00, 162MB/s]\n",
            "/usr/local/lib/python3.10/dist-packages/torchvision/models/_utils.py:223: UserWarning: Arguments other than a weight enum or `None` for 'weights' are deprecated since 0.13 and may be removed in the future. The current behavior is equivalent to passing `weights=ResNet50_Weights.IMAGENET1K_V1`. You can also use `weights=ResNet50_Weights.DEFAULT` to get the most up-to-date weights.\n",
            "  warnings.warn(msg)\n",
            "Downloading: \"https://download.pytorch.org/models/resnet50-0676ba61.pth\" to /root/.cache/torch/hub/checkpoints/resnet50-0676ba61.pth\n",
            "100%|██████████| 97.8M/97.8M [00:00<00:00, 149MB/s]\n"
          ]
        }
      ]
    },
    {
      "cell_type": "markdown",
      "source": [
        "## Train Model"
      ],
      "metadata": {
        "id": "upwlczYeyPGe"
      }
    },
    {
      "cell_type": "code",
      "source": [
        "# Define a function for model validation\n",
        "def validate_model(model, val_loader, device):\n",
        "    model.eval()\n",
        "    correct = 0\n",
        "    total = 0\n",
        "    with torch.no_grad():\n",
        "        for data in val_loader:\n",
        "            images, labels = data[0].to(device), data[1].to(device)\n",
        "            outputs = model(images)\n",
        "            _, predicted = torch.max(outputs.data, 1)\n",
        "            total += labels.size(0)\n",
        "            correct += (predicted == labels).sum().item()\n",
        "\n",
        "    accuracy = correct / total\n",
        "    return accuracy"
      ],
      "metadata": {
        "id": "skAVnypzOWWw"
      },
      "execution_count": null,
      "outputs": []
    },
    {
      "cell_type": "code",
      "source": [
        "def train_model(model, train_loader, epochs=10, learning_rate=1e-3):\n",
        "    device = torch.device(\"cuda:0\" if torch.cuda.is_available() else \"cpu\")\n",
        "    model = model.to(device)\n",
        "    optimizer = Adam(model.parameters(), lr=learning_rate, weight_decay=1e-5)  # Added weight decay\n",
        "    criterion = nn.CrossEntropyLoss()\n",
        "    scheduler = torch.optim.lr_scheduler.StepLR(optimizer, step_size=5, gamma=0.1)  # Learning rate scheduler\n",
        "\n",
        "    best_acc = 0\n",
        "\n",
        "    model.train()\n",
        "    for epoch in range(epochs):\n",
        "        running_loss = 0.0\n",
        "        correct = 0\n",
        "        total = 0\n",
        "        for i, data in enumerate(train_loader, 0):\n",
        "            inputs, labels = data[0].to(device), data[1].to(device)\n",
        "\n",
        "            optimizer.zero_grad()\n",
        "\n",
        "            outputs = model(inputs)\n",
        "            loss = criterion(outputs, labels)\n",
        "            loss.backward()\n",
        "            optimizer.step()\n",
        "\n",
        "            running_loss += loss.item()\n",
        "            _, predicted = torch.max(outputs.data, 1)\n",
        "            total += labels.size(0)\n",
        "            correct += (predicted == labels).sum().item()\n",
        "\n",
        "        scheduler.step()  # Adjust learning rate based on scheduler\n",
        "        epoch_loss = running_loss / len(train_loader)\n",
        "        epoch_acc = correct / total\n",
        "\n",
        "        # Validation to check generalization\n",
        "        val_acc = validate_model(model, val_loader, device)\n",
        "        print(f'Epoch {epoch+1},  Loss: {epoch_loss}, Train Accuracy: {epoch_acc}, Validation Accuracy: {val_acc}')\n",
        "\n",
        "        if val_acc > best_acc:\n",
        "            best_acc = val_acc\n",
        "\n",
        "    print(f'Epoch {epoch+1}, Loss: {epoch_loss}, Accuracy: {best_acc}')\n",
        "\n",
        "    print('Finished Training')\n",
        "    return (epoch_acc, model)\n",
        "\n"
      ],
      "metadata": {
        "id": "cfbaRUYZyBFn"
      },
      "execution_count": null,
      "outputs": []
    },
    {
      "cell_type": "code",
      "source": [
        "def knowledge_distillation(teacher_model, student_model, train_loader, val_loader, alpha = 0.5, temperature = 2.5, epochs=10, learning_rate=1e-3):\n",
        "    device = torch.device(\"cuda:0\" if torch.cuda.is_available() else \"cpu\")\n",
        "    teacher_model = teacher_model.to(device)\n",
        "    student_model = student_model.to(device)\n",
        "    optimizer = Adam(student_model.parameters(), lr=learning_rate, weight_decay=1e-5)\n",
        "    scheduler = torch.optim.lr_scheduler.StepLR(optimizer, step_size=5, gamma=0.1)  # Learning rate scheduler\n",
        "    criterion = nn.CrossEntropyLoss()\n",
        "\n",
        "    # Hyperparameters for grid search\n",
        "\n",
        "    best_acc = 0\n",
        "\n",
        "    teacher_model.eval()\n",
        "    student_model.train()\n",
        "\n",
        "    for epoch in range(epochs):\n",
        "        running_loss = 0.0\n",
        "        correct = 0\n",
        "        total = 0\n",
        "        for i, data in enumerate(train_loader, 0):\n",
        "            inputs, labels = data[0].to(device), data[1].to(device)\n",
        "\n",
        "            optimizer.zero_grad()\n",
        "\n",
        "            with torch.no_grad():\n",
        "                teacher_outputs = teacher_model(inputs)\n",
        "\n",
        "            student_outputs = student_model(inputs)\n",
        "            loss = (1. - alpha) * criterion(student_outputs, labels)\n",
        "            loss += alpha * (F.kl_div(F.log_softmax(student_outputs / temperature, dim=1),\n",
        "                                      F.softmax(teacher_outputs / temperature, dim=1),\n",
        "                                      reduction='batchmean') * (temperature ** 2))\n",
        "\n",
        "            loss.backward()\n",
        "            optimizer.step()\n",
        "\n",
        "            running_loss += loss.item()\n",
        "            _, predicted = torch.max(student_outputs.data, 1)\n",
        "            total += labels.size(0)\n",
        "            correct += (predicted == labels).sum().item()\n",
        "\n",
        "        scheduler.step()  # Update learning rate\n",
        "        epoch_loss = running_loss / len(train_loader)\n",
        "        epoch_acc = correct / total\n",
        "\n",
        "        # Validation to check generalization\n",
        "        val_acc = validate_model(student_model, val_loader, device)\n",
        "        print(f'Epoch {epoch+1},  Loss: {epoch_loss}, Train Accuracy: {epoch_acc}, Validation Accuracy: {val_acc}')\n",
        "\n",
        "        if val_acc > best_acc:\n",
        "            best_acc = val_acc\n",
        "            best_alpha, best_temperature = alpha, temperature\n",
        "\n",
        "    print('Finished Knowledge Distillation')\n",
        "    return (best_acc, student_model)"
      ],
      "metadata": {
        "id": "Y_LOfKT0yK5W"
      },
      "execution_count": null,
      "outputs": []
    },
    {
      "cell_type": "code",
      "source": [
        "# Train both models to get baseline accuracy\n",
        "baseline_acc_resnet18, trained_resnet18 = train_model(resnet18, train_loader)"
      ],
      "metadata": {
        "colab": {
          "base_uri": "https://localhost:8080/"
        },
        "id": "kIQZlz9YyUyg",
        "outputId": "8c17ec9b-b592-4c97-8283-d5ac63a3411a"
      },
      "execution_count": null,
      "outputs": [
        {
          "output_type": "stream",
          "name": "stdout",
          "text": [
            "Epoch 1, Loss: 1.0684906738569668, Accuracy: 0.65396\n",
            "Epoch 2, Loss: 0.6608771151670104, Accuracy: 0.77786\n",
            "Epoch 3, Loss: 0.5224957946316361, Accuracy: 0.82368\n",
            "Epoch 4, Loss: 0.42069070103109035, Accuracy: 0.8574\n",
            "Epoch 5, Loss: 0.32570542236956795, Accuracy: 0.88888\n",
            "Epoch 6, Loss: 0.1332750970812138, Accuracy: 0.95668\n",
            "Epoch 7, Loss: 0.06760632546643591, Accuracy: 0.97858\n",
            "Epoch 8, Loss: 0.039955910762398, Accuracy: 0.98772\n",
            "Epoch 9, Loss: 0.02546420908352757, Accuracy: 0.9918\n",
            "Epoch 10, Loss: 0.017183984738497964, Accuracy: 0.99454\n",
            "Finished Training\n"
          ]
        }
      ]
    },
    {
      "cell_type": "code",
      "source": [
        "validate_model(trained_resnet18, val_loader, device)"
      ],
      "metadata": {
        "colab": {
          "base_uri": "https://localhost:8080/"
        },
        "id": "xgWY_os8UqX6",
        "outputId": "dd5a33d9-ca11-4547-a9b4-62d3f40895cc"
      },
      "execution_count": null,
      "outputs": [
        {
          "output_type": "stream",
          "name": "stdout",
          "text": [
            "0.9732\n"
          ]
        }
      ]
    },
    {
      "cell_type": "code",
      "source": [
        "baseline_acc_resnet50, trained_resnet50 = train_model(resnet50, train_loader)"
      ],
      "metadata": {
        "colab": {
          "base_uri": "https://localhost:8080/"
        },
        "id": "OJDcTNIwR2Tq",
        "outputId": "daab766f-5978-4c6b-c46b-234af968dc29"
      },
      "execution_count": null,
      "outputs": [
        {
          "output_type": "stream",
          "name": "stdout",
          "text": [
            "Epoch 1,  Loss: 1.1241562697664855, Train Accuracy: 0.6378, Validation Accuracy: 0.65502\n",
            "Epoch 2,  Loss: 1.2624519733745423, Train Accuracy: 0.5492, Validation Accuracy: 0.72952\n",
            "Epoch 3,  Loss: 0.7654269236280485, Train Accuracy: 0.73858, Validation Accuracy: 0.78462\n",
            "Epoch 4,  Loss: 0.6440953198067673, Train Accuracy: 0.7813, Validation Accuracy: 0.78498\n",
            "Epoch 5,  Loss: 0.5555187167261567, Train Accuracy: 0.81098, Validation Accuracy: 0.83528\n",
            "Epoch 6,  Loss: 0.27584131566993414, Train Accuracy: 0.90572, Validation Accuracy: 0.94058\n",
            "Epoch 7,  Loss: 0.17696004295173814, Train Accuracy: 0.9397, Validation Accuracy: 0.96646\n",
            "Epoch 8,  Loss: 0.10826695287038031, Train Accuracy: 0.96582, Validation Accuracy: 0.9842\n",
            "Epoch 9,  Loss: 0.05647473648289347, Train Accuracy: 0.98342, Validation Accuracy: 0.9932\n",
            "Epoch 10,  Loss: 0.03306476617893835, Train Accuracy: 0.99042, Validation Accuracy: 0.99346\n",
            "Epoch 10, Loss: 0.03306476617893835, Accuracy: 0.99346\n",
            "Finished Training\n"
          ]
        }
      ]
    },
    {
      "cell_type": "code",
      "source": [
        "validate_model(trained_resnet50, val_loader, device)"
      ],
      "metadata": {
        "colab": {
          "base_uri": "https://localhost:8080/"
        },
        "id": "-Y8xEvQkDCQY",
        "outputId": "201bf664-7225-4ec5-b276-ddfa304ce1c8"
      },
      "execution_count": null,
      "outputs": [
        {
          "output_type": "execute_result",
          "data": {
            "text/plain": [
              "0.99346"
            ]
          },
          "metadata": {},
          "execution_count": 14
        }
      ]
    },
    {
      "cell_type": "code",
      "source": [
        "# Perform normal KD with ResNet50 as teacher and ResNet18 as student\n",
        "resnet18 = models.resnet18(weights=True)\n",
        "kd_acc_resnet18, distilled_resnet18 = knowledge_distillation(trained_resnet50, resnet18, train_loader, val_loader)"
      ],
      "metadata": {
        "colab": {
          "base_uri": "https://localhost:8080/"
        },
        "id": "n85xacaPgpXf",
        "outputId": "5228f75d-f81c-4b4f-e89b-812f694795eb"
      },
      "execution_count": null,
      "outputs": [
        {
          "output_type": "stream",
          "name": "stderr",
          "text": [
            "/usr/local/lib/python3.10/dist-packages/torchvision/models/_utils.py:223: UserWarning: Arguments other than a weight enum or `None` for 'weights' are deprecated since 0.13 and may be removed in the future. The current behavior is equivalent to passing `weights=ResNet18_Weights.IMAGENET1K_V1`. You can also use `weights=ResNet18_Weights.DEFAULT` to get the most up-to-date weights.\n",
            "  warnings.warn(msg)\n"
          ]
        },
        {
          "output_type": "stream",
          "name": "stdout",
          "text": [
            "Epoch 1,  Loss: 3.0607115101936224, Train Accuracy: 0.68296, Validation Accuracy: 0.7939\n",
            "Epoch 2,  Loss: 2.159079546208882, Train Accuracy: 0.75192, Validation Accuracy: 0.81804\n",
            "Epoch 3,  Loss: 1.5197044298090898, Train Accuracy: 0.81476, Validation Accuracy: 0.85136\n",
            "Epoch 4,  Loss: 1.2159842743593103, Train Accuracy: 0.84836, Validation Accuracy: 0.87724\n",
            "Epoch 5,  Loss: 1.023549463819055, Train Accuracy: 0.87, Validation Accuracy: 0.90286\n",
            "Epoch 6,  Loss: 0.47884095383955694, Train Accuracy: 0.93834, Validation Accuracy: 0.9598\n",
            "Epoch 7,  Loss: 0.33244786446775926, Train Accuracy: 0.96022, Validation Accuracy: 0.97396\n",
            "Epoch 8,  Loss: 0.25939579493821124, Train Accuracy: 0.97212, Validation Accuracy: 0.98326\n",
            "Epoch 9,  Loss: 0.20615337638522657, Train Accuracy: 0.982, Validation Accuracy: 0.9889\n",
            "Epoch 10,  Loss: 0.16909092522757438, Train Accuracy: 0.98818, Validation Accuracy: 0.99134\n",
            "Finished Knowledge Distillation\n"
          ]
        }
      ]
    },
    {
      "cell_type": "code",
      "source": [
        "resnet18 = models.resnet18(weights=True)\n",
        "self_kd_acc_resnet18, self_distilled_resnet18 = knowledge_distillation(trained_resnet18, resnet18, train_loader, val_loader, epochs = 10)"
      ],
      "metadata": {
        "colab": {
          "base_uri": "https://localhost:8080/"
        },
        "id": "rQb-Rf1tZAiD",
        "outputId": "2e6f9849-ef6a-47b0-8a79-3f6586c99f7e"
      },
      "execution_count": null,
      "outputs": [
        {
          "output_type": "stream",
          "name": "stderr",
          "text": [
            "/usr/local/lib/python3.10/dist-packages/torchvision/models/_utils.py:223: UserWarning: Arguments other than a weight enum or `None` for 'weights' are deprecated since 0.13 and may be removed in the future. The current behavior is equivalent to passing `weights=ResNet18_Weights.IMAGENET1K_V1`. You can also use `weights=ResNet18_Weights.DEFAULT` to get the most up-to-date weights.\n",
            "  warnings.warn(msg)\n"
          ]
        },
        {
          "output_type": "stream",
          "name": "stdout",
          "text": [
            "Epoch 1,  Loss: 3.3653346842817027, Train Accuracy: 0.67918, Validation Accuracy: 0.77538\n",
            "Epoch 2,  Loss: 2.38172355134164, Train Accuracy: 0.75374, Validation Accuracy: 0.79686\n",
            "Epoch 3,  Loss: 1.732421047013739, Train Accuracy: 0.81382, Validation Accuracy: 0.84936\n",
            "Epoch 4,  Loss: 1.4007619300766674, Train Accuracy: 0.84642, Validation Accuracy: 0.8807\n",
            "Epoch 5,  Loss: 1.1003576603234577, Train Accuracy: 0.87774, Validation Accuracy: 0.91566\n",
            "Epoch 6,  Loss: 0.4496425986671082, Train Accuracy: 0.95102, Validation Accuracy: 0.97302\n",
            "Epoch 7,  Loss: 0.2801854875119751, Train Accuracy: 0.972, Validation Accuracy: 0.98472\n",
            "Epoch 8,  Loss: 0.19662773227104752, Train Accuracy: 0.98434, Validation Accuracy: 0.99184\n",
            "Epoch 9,  Loss: 0.14477787831383745, Train Accuracy: 0.99204, Validation Accuracy: 0.99514\n",
            "Epoch 10,  Loss: 0.11595752836702883, Train Accuracy: 0.9947, Validation Accuracy: 0.99602\n",
            "Finished Knowledge Distillation\n"
          ]
        }
      ]
    },
    {
      "cell_type": "code",
      "source": [
        "# Perform reverse KD with ResNet18 as teacher and ResNet50 as student\n",
        "resnet50 = models.resnet50(weights=True)\n",
        "kd_acc_resnet50 = knowledge_distillation(trained_resnet18, resnet50, train_loader, val_loader)"
      ],
      "metadata": {
        "colab": {
          "base_uri": "https://localhost:8080/"
        },
        "id": "oXRJuwzvdveX",
        "outputId": "7fdb671d-ae38-4566-ecca-16df717f259f"
      },
      "execution_count": null,
      "outputs": [
        {
          "output_type": "stream",
          "name": "stderr",
          "text": [
            "/usr/local/lib/python3.10/dist-packages/torchvision/models/_utils.py:223: UserWarning: Arguments other than a weight enum or `None` for 'weights' are deprecated since 0.13 and may be removed in the future. The current behavior is equivalent to passing `weights=ResNet18_Weights.IMAGENET1K_V1`. You can also use `weights=ResNet18_Weights.DEFAULT` to get the most up-to-date weights.\n",
            "  warnings.warn(msg)\n"
          ]
        },
        {
          "output_type": "stream",
          "name": "stdout",
          "text": [
            "Epoch 1,  Loss: 1.5946509189465468, Train Accuracy: 0.84074, Validation Accuracy: 0.86998\n",
            "Epoch 2,  Loss: 1.303880830059576, Train Accuracy: 0.86488, Validation Accuracy: 0.91306\n",
            "Epoch 3,  Loss: 0.9351826997669151, Train Accuracy: 0.90242, Validation Accuracy: 0.933\n",
            "Epoch 4,  Loss: 0.7957348483983818, Train Accuracy: 0.91916, Validation Accuracy: 0.9229\n",
            "Epoch 5,  Loss: 0.7239070548235303, Train Accuracy: 0.92786, Validation Accuracy: 0.95434\n",
            "Epoch 6,  Loss: 0.2926031673026969, Train Accuracy: 0.97718, Validation Accuracy: 0.99192\n",
            "Epoch 7,  Loss: 0.18359896431074424, Train Accuracy: 0.99254, Validation Accuracy: 0.99682\n",
            "Epoch 8,  Loss: 0.14672014138678, Train Accuracy: 0.9967, Validation Accuracy: 0.9984\n",
            "Epoch 9,  Loss: 0.12295342332033245, Train Accuracy: 0.99848, Validation Accuracy: 0.99894\n",
            "Epoch 10,  Loss: 0.10445033968962214, Train Accuracy: 0.99888, Validation Accuracy: 0.99918\n",
            "Finished Knowledge Distillation\n"
          ]
        }
      ]
    },
    {
      "cell_type": "code",
      "source": [
        "resnet50 = models.resnet50(weights=True)\n",
        "self_kd_acc_resnet50 = knowledge_distillation(trained_resnet50, resnet50, train_loader, val_loader, epochs = 10)"
      ],
      "metadata": {
        "colab": {
          "base_uri": "https://localhost:8080/"
        },
        "id": "0twvj1hFWha7",
        "outputId": "e1962ac5-520e-4d60-c2b5-4817aebd4783"
      },
      "execution_count": null,
      "outputs": [
        {
          "output_type": "stream",
          "name": "stderr",
          "text": [
            "/usr/local/lib/python3.10/dist-packages/torchvision/models/_utils.py:223: UserWarning: Arguments other than a weight enum or `None` for 'weights' are deprecated since 0.13 and may be removed in the future. The current behavior is equivalent to passing `weights=ResNet50_Weights.IMAGENET1K_V1`. You can also use `weights=ResNet50_Weights.DEFAULT` to get the most up-to-date weights.\n",
            "  warnings.warn(msg)\n"
          ]
        },
        {
          "output_type": "stream",
          "name": "stdout",
          "text": [
            "Epoch 1,  Loss: 2.8490625717450895, Train Accuracy: 0.69612, Validation Accuracy: 0.78756\n",
            "Epoch 2,  Loss: 2.222142069540975, Train Accuracy: 0.74498, Validation Accuracy: 0.8032\n",
            "Epoch 3,  Loss: 1.6210009162993078, Train Accuracy: 0.80504, Validation Accuracy: 0.83558\n",
            "Epoch 4,  Loss: 1.3904464440729918, Train Accuracy: 0.82642, Validation Accuracy: 0.8514\n",
            "Epoch 5,  Loss: 1.1793581144050564, Train Accuracy: 0.85068, Validation Accuracy: 0.87878\n",
            "Epoch 6,  Loss: 0.5157197678218717, Train Accuracy: 0.92608, Validation Accuracy: 0.95658\n",
            "Epoch 7,  Loss: 0.3186811959690145, Train Accuracy: 0.9562, Validation Accuracy: 0.9729\n",
            "Epoch 8,  Loss: 0.22367067955186604, Train Accuracy: 0.97294, Validation Accuracy: 0.98554\n",
            "Epoch 9,  Loss: 0.15974410416563148, Train Accuracy: 0.98512, Validation Accuracy: 0.99142\n",
            "Epoch 10,  Loss: 0.12574605879080875, Train Accuracy: 0.99054, Validation Accuracy: 0.994\n",
            "Finished Knowledge Distillation\n"
          ]
        }
      ]
    }
  ]
}